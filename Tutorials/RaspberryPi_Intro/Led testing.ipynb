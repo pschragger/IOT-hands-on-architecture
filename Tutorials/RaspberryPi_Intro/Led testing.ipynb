{
 "cells": [
  {
   "cell_type": "markdown",
   "metadata": {},
   "source": [
    "#Investigating GPIO by lighting an LED\n",
    "\n",
    "The following circuits were built with:\n",
    "http://www.digikey.com/schemeit/\n",
    "\n",
    "\n",
    "<img src=\"./images/LED_Diagram1.png\" alt=\"Led with Tactile switch connect to PI GPIO\">\n"
   ]
  },
  {
   "cell_type": "code",
   "execution_count": null,
   "metadata": {
    "collapsed": true
   },
   "outputs": [],
   "source": []
  }
 ],
 "metadata": {
  "kernelspec": {
   "display_name": "Python 2",
   "language": "python",
   "name": "python2"
  },
  "language_info": {
   "codemirror_mode": {
    "name": "ipython",
    "version": 2
   },
   "file_extension": ".py",
   "mimetype": "text/x-python",
   "name": "python",
   "nbconvert_exporter": "python",
   "pygments_lexer": "ipython2",
   "version": "2.7.10"
  }
 },
 "nbformat": 4,
 "nbformat_minor": 0
}
